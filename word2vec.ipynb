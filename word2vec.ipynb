{
 "cells": [
  {
   "cell_type": "markdown",
   "metadata": {},
   "source": [
    "# Understanding of Word2Vec"
   ]
  },
  {
   "cell_type": "markdown",
   "metadata": {},
   "source": [
    "2013년 토마스 미콜로프 등이 제안한 워드투벡(Word2Vec)은 자연어처리에서 가장 영향력이 있는 딥러닝 기술 중 하나이다. \n",
    "이 기술은 대규모 텍스트 데이터셋을 사용하여 단어를 벡터(임베딩)로 변환한다.\n",
    "이 벡터 표현은 감정 분류와 같은 하위 태스크에 사용된다.\n",
    "\n",
    "아래는 워드투벡이 어떻게 단어를 벡터로 바꾸는지에 대한 예시이다.\n",
    "$$vec(왕)=\\begin{bmatrix}-2.1&4.1&0.6\\end{bmatrix}$$\n",
    "$$vec(여왕)=\\begin{bmatrix}-1.9&2.6&1.5\\end{bmatrix}$$\n",
    "$$vec(남자)=\\begin{bmatrix}3.0&-1.1&-1\\end{bmatrix}$$\n",
    "$$vec(여자)=\\begin{bmatrix}2.8&-2.6&-1.1\\end{bmatrix}$$\n",
    "\n",
    "이 예제에서 유클리드 거리로 측정했을 때 왕과 여왕 사이의 거리(4.37)가 왕과 여자 사이의 거리(8.47)보다 가까운 것을 알 수 있다. \n",
    "\n",
    "워드투벡의 놀라운 결과 중 하나는 유추를 할 수 있다는 것이다.\n",
    "\n",
    "대표적인 예는 \"남자는 여자와 대응한다면, 왕은 무엇과 대응하는가?\"라는 질문이다.\n",
    "이는 아래와 같이 계산될 수 있다.\n",
    "$$vec(왕)-vec(남자)+vec(여자) \\approx vec(여왕)$$"
   ]
  },
  {
   "cell_type": "markdown",
   "metadata": {},
   "source": [
    "# CBOW VS Skip-Gram"
   ]
  },
  {
   "cell_type": "markdown",
   "metadata": {},
   "source": [
    "이러한 벡터 표현을 만들기 위해 모델은 사전 작업을 수행해야 한다.\n",
    "\n",
    "저자는 비슷한 작업을 하는 두 가지 구조를 제안했다.\n",
    "\n",
    "* CBOW(Continuous Bag-Of-Words) 모델: 주변 맥락(대상 단어의 앞과 뒤에 오는 단어)을 활용하여 단어를 예측하도록 훈련된다. 주변 단어들 임베딩의 합을 사용하기 때문에 주변 단어들이 순서는 중요하지 않다. 저자는 예측되는 단어의 앞, 뒤 네 단어를 사용하는 것의 성능이 좋다고 언급했다.\n",
    "* Skip-Gram 모델: 단어 하나를 모델에 넣고 주변 단어들을 예측한다. 주변 단어의 범위가 넓어질수록 좋은 임베딩을 얻을 수 있지만 학습 시간이 증가한다.\n",
    "\n",
    "※ 일반적으로 CBOW 모델은 학습할 때 더 빠르고 Skip-Gram 모델은 자주 나오지 않는 단어를 학습하는 능력 덕분에 더 정확하다고 알려져 있다."
   ]
  },
  {
   "cell_type": "code",
   "execution_count": 1,
   "metadata": {},
   "outputs": [
    {
     "data": {
      "image/png": "[encoded data removed]",
      "text/plain": [
       "<IPython.core.display.Image object>"
      ]
     },
     "execution_count": 1,
     "metadata": {},
     "output_type": "execute_result"
    }
   ],
   "source": [
    "from IPython.display import Image #pip install IPython\n",
    "Image(\"image/cbow_vs_skipgram.png\") \n"
   ]
  },
  {
   "cell_type": "markdown",
   "metadata": {},
   "source": [
    "# Implemention of Skip-Gram"
   ]
  },
  {
   "cell_type": "markdown",
   "metadata": {},
   "source": [
    "스킵그램은 (대상 다넝, 맥락 단어)의 쌍으로 표현할 수 있다.\n",
    "\n",
    "이때, 대상 단어는 입력이고 맥락 단어는 예측할 단어이다. \n",
    "\n",
    "아래 표와 같이 같은 대상이라도 맥락 크기에 따라서 스킵그램 수가 달라진다.\n",
    "\n",
    "|맥락 크기|텍스트|스킵그램|\n",
    "|------|---|---|\n",
    "|1|**the train** was late|('the', 'train')|\n",
    "|1|**the train was** late|('train', 'the'), ('train', 'was')|\n",
    "|1|the **train was late**|('was', 'train'), ('was', 'late')|\n",
    "|1|the train **was late**|('late', 'was')|\n",
    "|2|**the train** was late|('the', 'train'), ('the', 'was')|\n",
    "|2|**the train was late**|('train', 'the'), ('train', 'was'), ('train', 'late')|\n",
    "|2|**the train was late**|('was', 'the'), ('was', 'train'), ('was', 'late')|\n",
    "|2|the **train was late**|('late', 'train'), ('late', 'was')|\n"
   ]
  },
  {
   "cell_type": "code",
   "execution_count": 2,
   "metadata": {},
   "outputs": [],
   "source": [
    "# package\n",
    "import numpy as np"
   ]
  },
  {
   "cell_type": "code",
   "execution_count": 3,
   "metadata": {},
   "outputs": [],
   "source": [
    "CONTEXT_SIZE = 2"
   ]
  },
  {
   "cell_type": "code",
   "execution_count": 4,
   "metadata": {},
   "outputs": [],
   "source": [
    "text = \"\"\"Lorem ipsum dolor sit amet, consectetur adipiscing elit. Nunc eu sem \n",
    "scelerisque, dictum eros aliquam, accumsan quam. Pellentesque tempus, lorem ut \n",
    "semper fermentum, ante turpis accumsan ex, sit amet ultricies tortor erat quis \n",
    "nulla. Nunc consectetur ligula sit amet purus porttitor, vel tempus tortor \n",
    "scelerisque. Vestibulum ante ipsum primis in faucibus orci luctus et ultrices \n",
    "posuere cubilia curae; Quisque suscipit ligula nec faucibus accumsan. Duis \n",
    "vulputate massa sit amet viverra hendrerit. Integer maximus quis sapien id \n",
    "convallis. Donec elementum placerat ex laoreet gravida. Praesent quis enim \n",
    "facilisis, bibendum est nec, pharetra ex. Etiam pharetra congue justo, eget \n",
    "imperdiet diam varius non. Mauris dolor lectus, interdum in laoreet quis, \n",
    "faucibus vitae velit. Donec lacinia dui eget maximus cursus. Class aptent taciti\n",
    "sociosqu ad litora torquent per conubia nostra, per inceptos himenaeos. Vivamus\n",
    "tincidunt velit eget nisi ornare convallis. Pellentesque habitant morbi \n",
    "tristique senectus et netus et malesuada fames ac turpis egestas. Donec \n",
    "tristique ultrices tortor at accumsan.\n",
    "\"\"\".split()\n"
   ]
  },
  {
   "cell_type": "code",
   "execution_count": 6,
   "metadata": {},
   "outputs": [
    {
     "data": {
      "text/plain": [
       "['Lorem',\n",
       " 'ipsum',\n",
       " 'dolor',\n",
       " 'sit',\n",
       " 'amet,',\n",
       " 'consectetur',\n",
       " 'adipiscing',\n",
       " 'elit.',\n",
       " 'Nunc',\n",
       " 'eu',\n",
       " 'sem',\n",
       " 'scelerisque,',\n",
       " 'dictum',\n",
       " 'eros',\n",
       " 'aliquam,',\n",
       " 'accumsan',\n",
       " 'quam.',\n",
       " 'Pellentesque',\n",
       " 'tempus,',\n",
       " 'lorem',\n",
       " 'ut',\n",
       " 'semper',\n",
       " 'fermentum,',\n",
       " 'ante',\n",
       " 'turpis',\n",
       " 'accumsan',\n",
       " 'ex,',\n",
       " 'sit',\n",
       " 'amet',\n",
       " 'ultricies',\n",
       " 'tortor',\n",
       " 'erat',\n",
       " 'quis',\n",
       " 'nulla.',\n",
       " 'Nunc',\n",
       " 'consectetur',\n",
       " 'ligula',\n",
       " 'sit',\n",
       " 'amet',\n",
       " 'purus',\n",
       " 'porttitor,',\n",
       " 'vel',\n",
       " 'tempus',\n",
       " 'tortor',\n",
       " 'scelerisque.',\n",
       " 'Vestibulum',\n",
       " 'ante',\n",
       " 'ipsum',\n",
       " 'primis',\n",
       " 'in',\n",
       " 'faucibus',\n",
       " 'orci',\n",
       " 'luctus',\n",
       " 'et',\n",
       " 'ultrices',\n",
       " 'posuere',\n",
       " 'cubilia',\n",
       " 'curae;',\n",
       " 'Quisque',\n",
       " 'suscipit',\n",
       " 'ligula',\n",
       " 'nec',\n",
       " 'faucibus',\n",
       " 'accumsan.',\n",
       " 'Duis',\n",
       " 'vulputate',\n",
       " 'massa',\n",
       " 'sit',\n",
       " 'amet',\n",
       " 'viverra',\n",
       " 'hendrerit.',\n",
       " 'Integer',\n",
       " 'maximus',\n",
       " 'quis',\n",
       " 'sapien',\n",
       " 'id',\n",
       " 'convallis.',\n",
       " 'Donec',\n",
       " 'elementum',\n",
       " 'placerat',\n",
       " 'ex',\n",
       " 'laoreet',\n",
       " 'gravida.',\n",
       " 'Praesent',\n",
       " 'quis',\n",
       " 'enim',\n",
       " 'facilisis,',\n",
       " 'bibendum',\n",
       " 'est',\n",
       " 'nec,',\n",
       " 'pharetra',\n",
       " 'ex.',\n",
       " 'Etiam',\n",
       " 'pharetra',\n",
       " 'congue',\n",
       " 'justo,',\n",
       " 'eget',\n",
       " 'imperdiet',\n",
       " 'diam',\n",
       " 'varius',\n",
       " 'non.',\n",
       " 'Mauris',\n",
       " 'dolor',\n",
       " 'lectus,',\n",
       " 'interdum',\n",
       " 'in',\n",
       " 'laoreet',\n",
       " 'quis,',\n",
       " 'faucibus',\n",
       " 'vitae',\n",
       " 'velit.',\n",
       " 'Donec',\n",
       " 'lacinia',\n",
       " 'dui',\n",
       " 'eget',\n",
       " 'maximus',\n",
       " 'cursus.',\n",
       " 'Class',\n",
       " 'aptent',\n",
       " 'taciti',\n",
       " 'sociosqu',\n",
       " 'ad',\n",
       " 'litora',\n",
       " 'torquent',\n",
       " 'per',\n",
       " 'conubia',\n",
       " 'nostra,',\n",
       " 'per',\n",
       " 'inceptos',\n",
       " 'himenaeos.',\n",
       " 'Vivamus',\n",
       " 'tincidunt',\n",
       " 'velit',\n",
       " 'eget',\n",
       " 'nisi',\n",
       " 'ornare',\n",
       " 'convallis.',\n",
       " 'Pellentesque',\n",
       " 'habitant',\n",
       " 'morbi',\n",
       " 'tristique',\n",
       " 'senectus',\n",
       " 'et',\n",
       " 'netus',\n",
       " 'et',\n",
       " 'malesuada',\n",
       " 'fames',\n",
       " 'ac',\n",
       " 'turpis',\n",
       " 'egestas.',\n",
       " 'Donec',\n",
       " 'tristique',\n",
       " 'ultrices',\n",
       " 'tortor',\n",
       " 'at',\n",
       " 'accumsan.']"
      ]
     },
     "execution_count": 6,
     "metadata": {},
     "output_type": "execute_result"
    }
   ],
   "source": [
    "text"
   ]
  },
  {
   "cell_type": "code",
   "execution_count": 5,
   "metadata": {},
   "outputs": [],
   "source": [
    "def skipgram_input_generator(text, context_size):\n",
    "    skipgrams = []\n",
    "    for i in range(context_size, len(text) - context_size):\n",
    "        array = [text[j] for j in np.arange(i - context_size, i + context_size + 1) if j != i]\n",
    "        skipgrams.append((text[i], array))\n",
    "\n",
    "    return skipgrams"
   ]
  },
  {
   "cell_type": "code",
   "execution_count": 7,
   "metadata": {},
   "outputs": [],
   "source": [
    "skipgrams = skipgram_input_generator(text, CONTEXT_SIZE)"
   ]
  },
  {
   "cell_type": "code",
   "execution_count": 8,
   "metadata": {},
   "outputs": [
    {
     "data": {
      "text/plain": [
       "[('dolor', ['Lorem', 'ipsum', 'sit', 'amet,']),\n",
       " ('sit', ['ipsum', 'dolor', 'amet,', 'consectetur'])]"
      ]
     },
     "execution_count": 8,
     "metadata": {},
     "output_type": "execute_result"
    }
   ],
   "source": [
    "skipgrams[0:2]"
   ]
  },
  {
   "cell_type": "markdown",
   "metadata": {},
   "source": []
  },
  {
   "cell_type": "code",
   "execution_count": null,
   "metadata": {},
   "outputs": [],
   "source": []
  }
 ],
 "metadata": {
  "kernelspec": {
   "display_name": "Any",
   "language": "python",
   "name": "python3"
  },
  "language_info": {
   "codemirror_mode": {
    "name": "ipython",
    "version": 3
   },
   "file_extension": ".py",
   "mimetype": "text/x-python",
   "name": "python",
   "nbconvert_exporter": "python",
   "pygments_lexer": "ipython3",
   "version": "3.12.0"
  }
 },
 "nbformat": 4,
 "nbformat_minor": 2
}
